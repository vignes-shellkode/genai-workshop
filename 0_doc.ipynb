{
 "cells": [
  {
   "cell_type": "markdown",
   "metadata": {},
   "source": [
    "Boto3: Boto3 is the official Amazon Web Services (AWS) Software Development Kit (SDK) for Python. It allows developers to interact with AWS services programmatically using Python code. With Boto3, you can create, configure, and manage AWS resources such as EC2 instances, S3 buckets, DynamoDB tables, Lambda functions, and more.\n",
    "\n",
    "Temperature: Controls the randomness of predictions. Lower values make outputs more deterministic and focused, while higher values increase creativity and diversity.\n",
    "\n",
    "regions: \n",
    "1. Regions allow users to deploy resources closer to their customers, reducing latency and improving performance.\n",
    "2. Regions are isolated from each other, ensuring that issues in one region (e.g., outages) do not affect others, enhancing reliability and disaster recovery.\n",
    "3. Different regions help meet legal and regulatory requirements by allowing data to stay within specific geographic boundaries.\n",
    "4. Distributing resources across regions prevents overloading a single location and supports global scalability.\n",
    "\n",
    "Intall\n",
    "pip install boto3 botocore"
   ]
  }
 ],
 "metadata": {
  "kernelspec": {
   "display_name": "Python 3",
   "language": "python",
   "name": "python3"
  },
  "language_info": {
   "codemirror_mode": {
    "name": "ipython",
    "version": 3
   },
   "file_extension": ".py",
   "mimetype": "text/x-python",
   "name": "python",
   "nbconvert_exporter": "python",
   "pygments_lexer": "ipython3",
   "version": "3.13.1"
  }
 },
 "nbformat": 4,
 "nbformat_minor": 2
}
